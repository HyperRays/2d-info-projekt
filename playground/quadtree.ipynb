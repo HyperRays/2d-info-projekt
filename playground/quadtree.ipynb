{
 "cells": [
  {
   "cell_type": "code",
   "execution_count": 12,
   "metadata": {},
   "outputs": [
    {
     "name": "stdout",
     "output_type": "stream",
     "text": [
      "quadtree(topLeft=None, topRight=None, bottomLeft=quadtree(topLeft='hel', topRight=None, bottomLeft=None, bottomRight=None), bottomRight=None)\n"
     ]
    }
   ],
   "source": [
    "from dataclasses import dataclass\n",
    "from typing import Any\n",
    "from enum import Enum\n",
    "\n",
    "class quadrant(Enum):\n",
    "    topLeft = 1\n",
    "    topRight = 2\n",
    "    bottomLeft = 3\n",
    "    bottomRight = 4\n",
    "\n",
    "\n",
    "@dataclass\n",
    "class quadtree:\n",
    "    topLeft: Any = None\n",
    "    topRight: Any = None\n",
    "    bottomLeft: Any = None\n",
    "    bottomRight: Any = None\n",
    "\n",
    "    def insert(self, quadrant: quadrant, value: Any):\n",
    "\n",
    "        def topLeft(value_inner):\n",
    "            self.topLeft = value_inner\n",
    "        \n",
    "        def topRight(value_inner):\n",
    "            self.topLeft = value_inner\n",
    "\n",
    "        def bottomLeft(value_inner):\n",
    "            self.topLeft = value_inner\n",
    "        \n",
    "        def bottomRight(value_inner):\n",
    "            self.topLeft = value_inner\n",
    "\n",
    "        switch = {\n",
    "            quadrant.topLeft: topLeft,\n",
    "            quadrant.topRight: topRight,\n",
    "            quadrant.bottomLeft: bottomLeft,\n",
    "            quadrant.bottomRight: bottomRight,\n",
    "        }\n",
    "\n",
    "        switch[quadrant](value)\n",
    "    \n",
    "    def query(self, quadrant: quadrant) -> Any:\n",
    "\n",
    "        switch = {\n",
    "            quadrant.topLeft: self.topLeft,\n",
    "            quadrant.topRight: self.topRight,\n",
    "            quadrant.bottomLeft: self.bottomLeft,\n",
    "            quadrant.bottomRight: self.bottomRight,\n",
    "        }\n",
    "\n",
    "        return switch[quadrant]\n",
    "\n",
    "\n",
    "\n",
    "qt = quadtree(bottomLeft = quadtree())\n",
    "a = qt.query(quadrant.bottomLeft)\n",
    "a.insert(quadrant.topLeft, \"hel\")\n",
    "\n",
    "\n",
    "print(qt)\n"
   ]
  }
 ],
 "metadata": {
  "kernelspec": {
   "display_name": "Python 3.8.8 ('base')",
   "language": "python",
   "name": "python3"
  },
  "language_info": {
   "codemirror_mode": {
    "name": "ipython",
    "version": 3
   },
   "file_extension": ".py",
   "mimetype": "text/x-python",
   "name": "python",
   "nbconvert_exporter": "python",
   "pygments_lexer": "ipython3",
   "version": "3.8.8"
  },
  "orig_nbformat": 4,
  "vscode": {
   "interpreter": {
    "hash": "ad2bdc8ecc057115af97d19610ffacc2b4e99fae6737bb82f5d7fb13d2f2c186"
   }
  }
 },
 "nbformat": 4,
 "nbformat_minor": 2
}
